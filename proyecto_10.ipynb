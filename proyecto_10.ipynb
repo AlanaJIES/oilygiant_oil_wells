{
 "cells": [
  {
   "cell_type": "markdown",
   "metadata": {},
   "source": [
    "Hola! Como te va?\n",
    "\n",
    "Mi nombre es Facundo! Ya he tenido el agreago de haber revisado algunos de tus proyectos, hoy seré tu revisor nuevamente en este proyecto.\n",
    "\n",
    "A continuación un poco sobre la modalidad de revisión que usaremos:\n",
    "\n",
    "Cuando enccuentro un error por primera vez, simplemente lo señalaré, te dejaré encontrarlo y arreglarlo tú cuenta. Además, a lo largo del texto iré haciendo algunas observaciones sobre mejora en tu código y también haré comentarios sobre tus percepciones sobre el tema. Pero si aún no puedes realizar esta tarea, te daré una pista más precisa en la próxima iteración y también algunos ejemplos prácticos. Estaré abierto a comentarios y discusiones sobre el tema.\n",
    "\n",
    "Encontrará mis comentarios a continuación: **no los mueva, modifique ni elimine**.\n",
    "\n",
    "Puedes encontrar mis comentarios en cuadros verdes, amarillos o rojos como este:\n",
    "\n",
    "<div class=\"alert alert-block alert-success\">\n",
    "<b>Comentario del revisor.</b> <a class=\"tocSkip\"></a>\n",
    "\n",
    "Exito. Todo se ha hecho de forma exitosa.\n",
    "</div>\n",
    "\n",
    "<div class=\"alert alert-block alert-warning\">\n",
    "<b>Comentario del revisor.</b> <a class=\"tocSkip\"></a>\n",
    "\n",
    "Observación. Algunas recomendaciones.\n",
    "</div>\n",
    "\n",
    "<div class=\"alert alert-block alert-danger\">\n",
    "\n",
    "<b>Comentario del revisor.</b> <a class=\"tocSkip\"></a>\n",
    "\n",
    "Necesita arreglos. Este apartado necesita algunas correcciones. El trabajo no puede ser aceptado con comentarios rojos. \n",
    "</div>\n",
    "\n",
    "Puedes responder utilizando esto:\n",
    "\n",
    "<div class=\"alert alert-block alert-info\">\n",
    "<b>Respuesta de estudiante.</b> <a class=\"tocSkip\"></a>\n",
    "</div>"
   ]
  },
  {
   "cell_type": "markdown",
   "metadata": {},
   "source": [
    "Estamos buscando para la empresa OilyGiant los mejores lugares donde abrir 200 pozos nuevos de petróleo."
   ]
  },
  {
   "cell_type": "markdown",
   "metadata": {},
   "source": [
    " <div class=\"alert alert-block alert-success\">\n",
    "<b>Review General. (Iteración 3) </b> <a class=\"tocSkip\"></a>\n",
    "\n",
    "Felicitaciones, has implementado los cambios que te he indicado, bien hecho! Hemos alcanzado los objetivos del proyecto por lo que está en condiciones de ser aprobado!\n",
    "    \n",
    "Felicitaciones y éxitos en tu camino dentro del mundo de los datos!\n",
    "    \n",
    "Saludos!"
   ]
  },
  {
   "cell_type": "markdown",
   "metadata": {},
   "source": [
    "<div class=\"alert alert-block alert-warning\">\n",
    "<b>Review General. (Iteración 2) </b> <a class=\"tocSkip\"></a>\n",
    "\n",
    "Hola nuevamente! :) un gusto! Veo que hemos intentado de corregir lo indicado y nos hemos acercado bastante, sin embargo hubo una leve confisión en donde aplicar el cambio por lo que obtuvimos resultados erroneos, una vez volvamos a modificar esto deberíamos poder ver mejores valores.\n",
    "    \n",
    "Espero nuevamente a esta corrección :) éxitos!"
   ]
  },
  {
   "cell_type": "markdown",
   "metadata": {},
   "source": [
    "<div class=\"alert alert-block alert-success\">\n",
    "<b>Review General. (Iteración 1) </b> <a class=\"tocSkip\"></a>\n",
    "\n",
    "\n",
    "Hola, siempre me tomo este tiempo al inicio de tu proyecto para comentar mis apreciaciones generales de esta iteración de tu entrega. \n",
    "    \n",
    "\n",
    "Me gusta comenzar dando la bienvenida al mundo de los datos a los estudiantes, te deseo lo mejor y espero que consigas lograr tus objetivos. Personalmente me gusta brindar el siguiente consejo, \"Está bien equivocarse, es normal y es lo mejor que te puede pasar. Aprendemos de los errores y eso te hará mejor programador ya que podrás descubrir cosas a medida que avances y son estas cosas las que te darán esa experiencia para ser un gran Data Scientist\"\n",
    "    \n",
    "Ahora si yendo a esta notebook.  Quería felicitarte porque has realizado de forma excelente el trabajo, has implementado de forma perfecta cada apartado y con un gran compromiso a la hora de mostrar los resultados parciales. Solo hemos tenido un pequeño detalle pero que estoy seguro que te demorará unos segundos corregir.\n",
    "\n",
    "Espero con ansias a nuestra próxima iteración, exitos y saludos!"
   ]
  },
  {
   "cell_type": "markdown",
   "metadata": {},
   "source": [
    "Paso 1. Descarga y preparación de los datos.\n",
    "1.1 Importar los datasets utilizados, y las librerías correspondientes."
   ]
  },
  {
   "cell_type": "code",
   "execution_count": 1,
   "metadata": {},
   "outputs": [],
   "source": [
    "# Librerías\n",
    "import pandas as pd\n",
    "import numpy as np\n",
    "from sklearn.preprocessing import StandardScaler\n",
    "from sklearn.model_selection import train_test_split\n",
    "from sklearn.metrics import mean_squared_error\n",
    "from sklearn.linear_model import LinearRegression"
   ]
  },
  {
   "cell_type": "code",
   "execution_count": 2,
   "metadata": {},
   "outputs": [],
   "source": [
    "# Leemos los archivos\n",
    "zona_0 = pd.read_csv(\n",
    "    '/datasets/geo_data_0.csv')\n",
    "zona_1 = pd.read_csv(\n",
    "    '/datasets/geo_data_1.csv')\n",
    "zona_2 = pd.read_csv(\n",
    "    '/datasets/geo_data_2.csv')"
   ]
  },
  {
   "cell_type": "markdown",
   "metadata": {},
   "source": [
    "1.2 Observar los datos que contienen los datasets y los tipos de datos."
   ]
  },
  {
   "cell_type": "code",
   "execution_count": 3,
   "metadata": {},
   "outputs": [
    {
     "data": {
      "text/html": [
       "<div>\n",
       "<style scoped>\n",
       "    .dataframe tbody tr th:only-of-type {\n",
       "        vertical-align: middle;\n",
       "    }\n",
       "\n",
       "    .dataframe tbody tr th {\n",
       "        vertical-align: top;\n",
       "    }\n",
       "\n",
       "    .dataframe thead th {\n",
       "        text-align: right;\n",
       "    }\n",
       "</style>\n",
       "<table border=\"1\" class=\"dataframe\">\n",
       "  <thead>\n",
       "    <tr style=\"text-align: right;\">\n",
       "      <th></th>\n",
       "      <th>id</th>\n",
       "      <th>f0</th>\n",
       "      <th>f1</th>\n",
       "      <th>f2</th>\n",
       "      <th>product</th>\n",
       "    </tr>\n",
       "  </thead>\n",
       "  <tbody>\n",
       "    <tr>\n",
       "      <th>0</th>\n",
       "      <td>txEyH</td>\n",
       "      <td>0.705745</td>\n",
       "      <td>-0.497823</td>\n",
       "      <td>1.221170</td>\n",
       "      <td>105.280062</td>\n",
       "    </tr>\n",
       "    <tr>\n",
       "      <th>1</th>\n",
       "      <td>2acmU</td>\n",
       "      <td>1.334711</td>\n",
       "      <td>-0.340164</td>\n",
       "      <td>4.365080</td>\n",
       "      <td>73.037750</td>\n",
       "    </tr>\n",
       "    <tr>\n",
       "      <th>2</th>\n",
       "      <td>409Wp</td>\n",
       "      <td>1.022732</td>\n",
       "      <td>0.151990</td>\n",
       "      <td>1.419926</td>\n",
       "      <td>85.265647</td>\n",
       "    </tr>\n",
       "    <tr>\n",
       "      <th>3</th>\n",
       "      <td>iJLyR</td>\n",
       "      <td>-0.032172</td>\n",
       "      <td>0.139033</td>\n",
       "      <td>2.978566</td>\n",
       "      <td>168.620776</td>\n",
       "    </tr>\n",
       "    <tr>\n",
       "      <th>4</th>\n",
       "      <td>Xdl7t</td>\n",
       "      <td>1.988431</td>\n",
       "      <td>0.155413</td>\n",
       "      <td>4.751769</td>\n",
       "      <td>154.036647</td>\n",
       "    </tr>\n",
       "    <tr>\n",
       "      <th>...</th>\n",
       "      <td>...</td>\n",
       "      <td>...</td>\n",
       "      <td>...</td>\n",
       "      <td>...</td>\n",
       "      <td>...</td>\n",
       "    </tr>\n",
       "    <tr>\n",
       "      <th>99995</th>\n",
       "      <td>DLsed</td>\n",
       "      <td>0.971957</td>\n",
       "      <td>0.370953</td>\n",
       "      <td>6.075346</td>\n",
       "      <td>110.744026</td>\n",
       "    </tr>\n",
       "    <tr>\n",
       "      <th>99996</th>\n",
       "      <td>QKivN</td>\n",
       "      <td>1.392429</td>\n",
       "      <td>-0.382606</td>\n",
       "      <td>1.273912</td>\n",
       "      <td>122.346843</td>\n",
       "    </tr>\n",
       "    <tr>\n",
       "      <th>99997</th>\n",
       "      <td>3rnvd</td>\n",
       "      <td>1.029585</td>\n",
       "      <td>0.018787</td>\n",
       "      <td>-1.348308</td>\n",
       "      <td>64.375443</td>\n",
       "    </tr>\n",
       "    <tr>\n",
       "      <th>99998</th>\n",
       "      <td>7kl59</td>\n",
       "      <td>0.998163</td>\n",
       "      <td>-0.528582</td>\n",
       "      <td>1.583869</td>\n",
       "      <td>74.040764</td>\n",
       "    </tr>\n",
       "    <tr>\n",
       "      <th>99999</th>\n",
       "      <td>1CWhH</td>\n",
       "      <td>1.764754</td>\n",
       "      <td>-0.266417</td>\n",
       "      <td>5.722849</td>\n",
       "      <td>149.633246</td>\n",
       "    </tr>\n",
       "  </tbody>\n",
       "</table>\n",
       "<p>100000 rows × 5 columns</p>\n",
       "</div>"
      ],
      "text/plain": [
       "          id        f0        f1        f2     product\n",
       "0      txEyH  0.705745 -0.497823  1.221170  105.280062\n",
       "1      2acmU  1.334711 -0.340164  4.365080   73.037750\n",
       "2      409Wp  1.022732  0.151990  1.419926   85.265647\n",
       "3      iJLyR -0.032172  0.139033  2.978566  168.620776\n",
       "4      Xdl7t  1.988431  0.155413  4.751769  154.036647\n",
       "...      ...       ...       ...       ...         ...\n",
       "99995  DLsed  0.971957  0.370953  6.075346  110.744026\n",
       "99996  QKivN  1.392429 -0.382606  1.273912  122.346843\n",
       "99997  3rnvd  1.029585  0.018787 -1.348308   64.375443\n",
       "99998  7kl59  0.998163 -0.528582  1.583869   74.040764\n",
       "99999  1CWhH  1.764754 -0.266417  5.722849  149.633246\n",
       "\n",
       "[100000 rows x 5 columns]"
      ]
     },
     "metadata": {},
     "output_type": "display_data"
    },
    {
     "name": "stdout",
     "output_type": "stream",
     "text": [
      "<class 'pandas.core.frame.DataFrame'>\n",
      "RangeIndex: 100000 entries, 0 to 99999\n",
      "Data columns (total 5 columns):\n",
      " #   Column   Non-Null Count   Dtype  \n",
      "---  ------   --------------   -----  \n",
      " 0   id       100000 non-null  object \n",
      " 1   f0       100000 non-null  float64\n",
      " 2   f1       100000 non-null  float64\n",
      " 3   f2       100000 non-null  float64\n",
      " 4   product  100000 non-null  float64\n",
      "dtypes: float64(4), object(1)\n",
      "memory usage: 3.8+ MB\n"
     ]
    },
    {
     "data": {
      "text/html": [
       "<div>\n",
       "<style scoped>\n",
       "    .dataframe tbody tr th:only-of-type {\n",
       "        vertical-align: middle;\n",
       "    }\n",
       "\n",
       "    .dataframe tbody tr th {\n",
       "        vertical-align: top;\n",
       "    }\n",
       "\n",
       "    .dataframe thead th {\n",
       "        text-align: right;\n",
       "    }\n",
       "</style>\n",
       "<table border=\"1\" class=\"dataframe\">\n",
       "  <thead>\n",
       "    <tr style=\"text-align: right;\">\n",
       "      <th></th>\n",
       "      <th>f0</th>\n",
       "      <th>f1</th>\n",
       "      <th>f2</th>\n",
       "      <th>product</th>\n",
       "    </tr>\n",
       "  </thead>\n",
       "  <tbody>\n",
       "    <tr>\n",
       "      <th>count</th>\n",
       "      <td>100000.000000</td>\n",
       "      <td>100000.000000</td>\n",
       "      <td>100000.000000</td>\n",
       "      <td>100000.000000</td>\n",
       "    </tr>\n",
       "    <tr>\n",
       "      <th>mean</th>\n",
       "      <td>0.500419</td>\n",
       "      <td>0.250143</td>\n",
       "      <td>2.502647</td>\n",
       "      <td>92.500000</td>\n",
       "    </tr>\n",
       "    <tr>\n",
       "      <th>std</th>\n",
       "      <td>0.871832</td>\n",
       "      <td>0.504433</td>\n",
       "      <td>3.248248</td>\n",
       "      <td>44.288691</td>\n",
       "    </tr>\n",
       "    <tr>\n",
       "      <th>min</th>\n",
       "      <td>-1.408605</td>\n",
       "      <td>-0.848218</td>\n",
       "      <td>-12.088328</td>\n",
       "      <td>0.000000</td>\n",
       "    </tr>\n",
       "    <tr>\n",
       "      <th>25%</th>\n",
       "      <td>-0.072580</td>\n",
       "      <td>-0.200881</td>\n",
       "      <td>0.287748</td>\n",
       "      <td>56.497507</td>\n",
       "    </tr>\n",
       "    <tr>\n",
       "      <th>50%</th>\n",
       "      <td>0.502360</td>\n",
       "      <td>0.250252</td>\n",
       "      <td>2.515969</td>\n",
       "      <td>91.849972</td>\n",
       "    </tr>\n",
       "    <tr>\n",
       "      <th>75%</th>\n",
       "      <td>1.073581</td>\n",
       "      <td>0.700646</td>\n",
       "      <td>4.715088</td>\n",
       "      <td>128.564089</td>\n",
       "    </tr>\n",
       "    <tr>\n",
       "      <th>max</th>\n",
       "      <td>2.362331</td>\n",
       "      <td>1.343769</td>\n",
       "      <td>16.003790</td>\n",
       "      <td>185.364347</td>\n",
       "    </tr>\n",
       "  </tbody>\n",
       "</table>\n",
       "</div>"
      ],
      "text/plain": [
       "                  f0             f1             f2        product\n",
       "count  100000.000000  100000.000000  100000.000000  100000.000000\n",
       "mean        0.500419       0.250143       2.502647      92.500000\n",
       "std         0.871832       0.504433       3.248248      44.288691\n",
       "min        -1.408605      -0.848218     -12.088328       0.000000\n",
       "25%        -0.072580      -0.200881       0.287748      56.497507\n",
       "50%         0.502360       0.250252       2.515969      91.849972\n",
       "75%         1.073581       0.700646       4.715088     128.564089\n",
       "max         2.362331       1.343769      16.003790     185.364347"
      ]
     },
     "metadata": {},
     "output_type": "display_data"
    },
    {
     "data": {
      "text/plain": [
       "0"
      ]
     },
     "metadata": {},
     "output_type": "display_data"
    }
   ],
   "source": [
    "display(zona_0)\n",
    "zona_0.info()\n",
    "display(zona_0.describe())\n",
    "display(zona_0.duplicated().sum())"
   ]
  },
  {
   "cell_type": "code",
   "execution_count": 4,
   "metadata": {},
   "outputs": [
    {
     "data": {
      "text/html": [
       "<div>\n",
       "<style scoped>\n",
       "    .dataframe tbody tr th:only-of-type {\n",
       "        vertical-align: middle;\n",
       "    }\n",
       "\n",
       "    .dataframe tbody tr th {\n",
       "        vertical-align: top;\n",
       "    }\n",
       "\n",
       "    .dataframe thead th {\n",
       "        text-align: right;\n",
       "    }\n",
       "</style>\n",
       "<table border=\"1\" class=\"dataframe\">\n",
       "  <thead>\n",
       "    <tr style=\"text-align: right;\">\n",
       "      <th></th>\n",
       "      <th>id</th>\n",
       "      <th>f0</th>\n",
       "      <th>f1</th>\n",
       "      <th>f2</th>\n",
       "      <th>product</th>\n",
       "    </tr>\n",
       "  </thead>\n",
       "  <tbody>\n",
       "    <tr>\n",
       "      <th>0</th>\n",
       "      <td>kBEdx</td>\n",
       "      <td>-15.001348</td>\n",
       "      <td>-8.276000</td>\n",
       "      <td>-0.005876</td>\n",
       "      <td>3.179103</td>\n",
       "    </tr>\n",
       "    <tr>\n",
       "      <th>1</th>\n",
       "      <td>62mP7</td>\n",
       "      <td>14.272088</td>\n",
       "      <td>-3.475083</td>\n",
       "      <td>0.999183</td>\n",
       "      <td>26.953261</td>\n",
       "    </tr>\n",
       "    <tr>\n",
       "      <th>2</th>\n",
       "      <td>vyE1P</td>\n",
       "      <td>6.263187</td>\n",
       "      <td>-5.948386</td>\n",
       "      <td>5.001160</td>\n",
       "      <td>134.766305</td>\n",
       "    </tr>\n",
       "    <tr>\n",
       "      <th>3</th>\n",
       "      <td>KcrkZ</td>\n",
       "      <td>-13.081196</td>\n",
       "      <td>-11.506057</td>\n",
       "      <td>4.999415</td>\n",
       "      <td>137.945408</td>\n",
       "    </tr>\n",
       "    <tr>\n",
       "      <th>4</th>\n",
       "      <td>AHL4O</td>\n",
       "      <td>12.702195</td>\n",
       "      <td>-8.147433</td>\n",
       "      <td>5.004363</td>\n",
       "      <td>134.766305</td>\n",
       "    </tr>\n",
       "    <tr>\n",
       "      <th>...</th>\n",
       "      <td>...</td>\n",
       "      <td>...</td>\n",
       "      <td>...</td>\n",
       "      <td>...</td>\n",
       "      <td>...</td>\n",
       "    </tr>\n",
       "    <tr>\n",
       "      <th>99995</th>\n",
       "      <td>QywKC</td>\n",
       "      <td>9.535637</td>\n",
       "      <td>-6.878139</td>\n",
       "      <td>1.998296</td>\n",
       "      <td>53.906522</td>\n",
       "    </tr>\n",
       "    <tr>\n",
       "      <th>99996</th>\n",
       "      <td>ptvty</td>\n",
       "      <td>-10.160631</td>\n",
       "      <td>-12.558096</td>\n",
       "      <td>5.005581</td>\n",
       "      <td>137.945408</td>\n",
       "    </tr>\n",
       "    <tr>\n",
       "      <th>99997</th>\n",
       "      <td>09gWa</td>\n",
       "      <td>-7.378891</td>\n",
       "      <td>-3.084104</td>\n",
       "      <td>4.998651</td>\n",
       "      <td>137.945408</td>\n",
       "    </tr>\n",
       "    <tr>\n",
       "      <th>99998</th>\n",
       "      <td>rqwUm</td>\n",
       "      <td>0.665714</td>\n",
       "      <td>-6.152593</td>\n",
       "      <td>1.000146</td>\n",
       "      <td>30.132364</td>\n",
       "    </tr>\n",
       "    <tr>\n",
       "      <th>99999</th>\n",
       "      <td>relB0</td>\n",
       "      <td>-3.426139</td>\n",
       "      <td>-7.794274</td>\n",
       "      <td>-0.003299</td>\n",
       "      <td>3.179103</td>\n",
       "    </tr>\n",
       "  </tbody>\n",
       "</table>\n",
       "<p>100000 rows × 5 columns</p>\n",
       "</div>"
      ],
      "text/plain": [
       "          id         f0         f1        f2     product\n",
       "0      kBEdx -15.001348  -8.276000 -0.005876    3.179103\n",
       "1      62mP7  14.272088  -3.475083  0.999183   26.953261\n",
       "2      vyE1P   6.263187  -5.948386  5.001160  134.766305\n",
       "3      KcrkZ -13.081196 -11.506057  4.999415  137.945408\n",
       "4      AHL4O  12.702195  -8.147433  5.004363  134.766305\n",
       "...      ...        ...        ...       ...         ...\n",
       "99995  QywKC   9.535637  -6.878139  1.998296   53.906522\n",
       "99996  ptvty -10.160631 -12.558096  5.005581  137.945408\n",
       "99997  09gWa  -7.378891  -3.084104  4.998651  137.945408\n",
       "99998  rqwUm   0.665714  -6.152593  1.000146   30.132364\n",
       "99999  relB0  -3.426139  -7.794274 -0.003299    3.179103\n",
       "\n",
       "[100000 rows x 5 columns]"
      ]
     },
     "metadata": {},
     "output_type": "display_data"
    },
    {
     "name": "stdout",
     "output_type": "stream",
     "text": [
      "<class 'pandas.core.frame.DataFrame'>\n",
      "RangeIndex: 100000 entries, 0 to 99999\n",
      "Data columns (total 5 columns):\n",
      " #   Column   Non-Null Count   Dtype  \n",
      "---  ------   --------------   -----  \n",
      " 0   id       100000 non-null  object \n",
      " 1   f0       100000 non-null  float64\n",
      " 2   f1       100000 non-null  float64\n",
      " 3   f2       100000 non-null  float64\n",
      " 4   product  100000 non-null  float64\n",
      "dtypes: float64(4), object(1)\n",
      "memory usage: 3.8+ MB\n"
     ]
    },
    {
     "data": {
      "text/html": [
       "<div>\n",
       "<style scoped>\n",
       "    .dataframe tbody tr th:only-of-type {\n",
       "        vertical-align: middle;\n",
       "    }\n",
       "\n",
       "    .dataframe tbody tr th {\n",
       "        vertical-align: top;\n",
       "    }\n",
       "\n",
       "    .dataframe thead th {\n",
       "        text-align: right;\n",
       "    }\n",
       "</style>\n",
       "<table border=\"1\" class=\"dataframe\">\n",
       "  <thead>\n",
       "    <tr style=\"text-align: right;\">\n",
       "      <th></th>\n",
       "      <th>f0</th>\n",
       "      <th>f1</th>\n",
       "      <th>f2</th>\n",
       "      <th>product</th>\n",
       "    </tr>\n",
       "  </thead>\n",
       "  <tbody>\n",
       "    <tr>\n",
       "      <th>count</th>\n",
       "      <td>100000.000000</td>\n",
       "      <td>100000.000000</td>\n",
       "      <td>100000.000000</td>\n",
       "      <td>100000.000000</td>\n",
       "    </tr>\n",
       "    <tr>\n",
       "      <th>mean</th>\n",
       "      <td>1.141296</td>\n",
       "      <td>-4.796579</td>\n",
       "      <td>2.494541</td>\n",
       "      <td>68.825000</td>\n",
       "    </tr>\n",
       "    <tr>\n",
       "      <th>std</th>\n",
       "      <td>8.965932</td>\n",
       "      <td>5.119872</td>\n",
       "      <td>1.703572</td>\n",
       "      <td>45.944423</td>\n",
       "    </tr>\n",
       "    <tr>\n",
       "      <th>min</th>\n",
       "      <td>-31.609576</td>\n",
       "      <td>-26.358598</td>\n",
       "      <td>-0.018144</td>\n",
       "      <td>0.000000</td>\n",
       "    </tr>\n",
       "    <tr>\n",
       "      <th>25%</th>\n",
       "      <td>-6.298551</td>\n",
       "      <td>-8.267985</td>\n",
       "      <td>1.000021</td>\n",
       "      <td>26.953261</td>\n",
       "    </tr>\n",
       "    <tr>\n",
       "      <th>50%</th>\n",
       "      <td>1.153055</td>\n",
       "      <td>-4.813172</td>\n",
       "      <td>2.011479</td>\n",
       "      <td>57.085625</td>\n",
       "    </tr>\n",
       "    <tr>\n",
       "      <th>75%</th>\n",
       "      <td>8.621015</td>\n",
       "      <td>-1.332816</td>\n",
       "      <td>3.999904</td>\n",
       "      <td>107.813044</td>\n",
       "    </tr>\n",
       "    <tr>\n",
       "      <th>max</th>\n",
       "      <td>29.421755</td>\n",
       "      <td>18.734063</td>\n",
       "      <td>5.019721</td>\n",
       "      <td>137.945408</td>\n",
       "    </tr>\n",
       "  </tbody>\n",
       "</table>\n",
       "</div>"
      ],
      "text/plain": [
       "                  f0             f1             f2        product\n",
       "count  100000.000000  100000.000000  100000.000000  100000.000000\n",
       "mean        1.141296      -4.796579       2.494541      68.825000\n",
       "std         8.965932       5.119872       1.703572      45.944423\n",
       "min       -31.609576     -26.358598      -0.018144       0.000000\n",
       "25%        -6.298551      -8.267985       1.000021      26.953261\n",
       "50%         1.153055      -4.813172       2.011479      57.085625\n",
       "75%         8.621015      -1.332816       3.999904     107.813044\n",
       "max        29.421755      18.734063       5.019721     137.945408"
      ]
     },
     "metadata": {},
     "output_type": "display_data"
    },
    {
     "data": {
      "text/plain": [
       "0"
      ]
     },
     "metadata": {},
     "output_type": "display_data"
    }
   ],
   "source": [
    "display(zona_1)\n",
    "zona_1.info()\n",
    "display(zona_1.describe())\n",
    "display(zona_1.duplicated().sum())"
   ]
  },
  {
   "cell_type": "code",
   "execution_count": 5,
   "metadata": {},
   "outputs": [
    {
     "data": {
      "text/html": [
       "<div>\n",
       "<style scoped>\n",
       "    .dataframe tbody tr th:only-of-type {\n",
       "        vertical-align: middle;\n",
       "    }\n",
       "\n",
       "    .dataframe tbody tr th {\n",
       "        vertical-align: top;\n",
       "    }\n",
       "\n",
       "    .dataframe thead th {\n",
       "        text-align: right;\n",
       "    }\n",
       "</style>\n",
       "<table border=\"1\" class=\"dataframe\">\n",
       "  <thead>\n",
       "    <tr style=\"text-align: right;\">\n",
       "      <th></th>\n",
       "      <th>id</th>\n",
       "      <th>f0</th>\n",
       "      <th>f1</th>\n",
       "      <th>f2</th>\n",
       "      <th>product</th>\n",
       "    </tr>\n",
       "  </thead>\n",
       "  <tbody>\n",
       "    <tr>\n",
       "      <th>0</th>\n",
       "      <td>fwXo0</td>\n",
       "      <td>-1.146987</td>\n",
       "      <td>0.963328</td>\n",
       "      <td>-0.828965</td>\n",
       "      <td>27.758673</td>\n",
       "    </tr>\n",
       "    <tr>\n",
       "      <th>1</th>\n",
       "      <td>WJtFt</td>\n",
       "      <td>0.262778</td>\n",
       "      <td>0.269839</td>\n",
       "      <td>-2.530187</td>\n",
       "      <td>56.069697</td>\n",
       "    </tr>\n",
       "    <tr>\n",
       "      <th>2</th>\n",
       "      <td>ovLUW</td>\n",
       "      <td>0.194587</td>\n",
       "      <td>0.289035</td>\n",
       "      <td>-5.586433</td>\n",
       "      <td>62.871910</td>\n",
       "    </tr>\n",
       "    <tr>\n",
       "      <th>3</th>\n",
       "      <td>q6cA6</td>\n",
       "      <td>2.236060</td>\n",
       "      <td>-0.553760</td>\n",
       "      <td>0.930038</td>\n",
       "      <td>114.572842</td>\n",
       "    </tr>\n",
       "    <tr>\n",
       "      <th>4</th>\n",
       "      <td>WPMUX</td>\n",
       "      <td>-0.515993</td>\n",
       "      <td>1.716266</td>\n",
       "      <td>5.899011</td>\n",
       "      <td>149.600746</td>\n",
       "    </tr>\n",
       "    <tr>\n",
       "      <th>...</th>\n",
       "      <td>...</td>\n",
       "      <td>...</td>\n",
       "      <td>...</td>\n",
       "      <td>...</td>\n",
       "      <td>...</td>\n",
       "    </tr>\n",
       "    <tr>\n",
       "      <th>99995</th>\n",
       "      <td>4GxBu</td>\n",
       "      <td>-1.777037</td>\n",
       "      <td>1.125220</td>\n",
       "      <td>6.263374</td>\n",
       "      <td>172.327046</td>\n",
       "    </tr>\n",
       "    <tr>\n",
       "      <th>99996</th>\n",
       "      <td>YKFjq</td>\n",
       "      <td>-1.261523</td>\n",
       "      <td>-0.894828</td>\n",
       "      <td>2.524545</td>\n",
       "      <td>138.748846</td>\n",
       "    </tr>\n",
       "    <tr>\n",
       "      <th>99997</th>\n",
       "      <td>tKPY3</td>\n",
       "      <td>-1.199934</td>\n",
       "      <td>-2.957637</td>\n",
       "      <td>5.219411</td>\n",
       "      <td>157.080080</td>\n",
       "    </tr>\n",
       "    <tr>\n",
       "      <th>99998</th>\n",
       "      <td>nmxp2</td>\n",
       "      <td>-2.419896</td>\n",
       "      <td>2.417221</td>\n",
       "      <td>-5.548444</td>\n",
       "      <td>51.795253</td>\n",
       "    </tr>\n",
       "    <tr>\n",
       "      <th>99999</th>\n",
       "      <td>V9kWn</td>\n",
       "      <td>-2.551421</td>\n",
       "      <td>-2.025625</td>\n",
       "      <td>6.090891</td>\n",
       "      <td>102.775767</td>\n",
       "    </tr>\n",
       "  </tbody>\n",
       "</table>\n",
       "<p>100000 rows × 5 columns</p>\n",
       "</div>"
      ],
      "text/plain": [
       "          id        f0        f1        f2     product\n",
       "0      fwXo0 -1.146987  0.963328 -0.828965   27.758673\n",
       "1      WJtFt  0.262778  0.269839 -2.530187   56.069697\n",
       "2      ovLUW  0.194587  0.289035 -5.586433   62.871910\n",
       "3      q6cA6  2.236060 -0.553760  0.930038  114.572842\n",
       "4      WPMUX -0.515993  1.716266  5.899011  149.600746\n",
       "...      ...       ...       ...       ...         ...\n",
       "99995  4GxBu -1.777037  1.125220  6.263374  172.327046\n",
       "99996  YKFjq -1.261523 -0.894828  2.524545  138.748846\n",
       "99997  tKPY3 -1.199934 -2.957637  5.219411  157.080080\n",
       "99998  nmxp2 -2.419896  2.417221 -5.548444   51.795253\n",
       "99999  V9kWn -2.551421 -2.025625  6.090891  102.775767\n",
       "\n",
       "[100000 rows x 5 columns]"
      ]
     },
     "metadata": {},
     "output_type": "display_data"
    },
    {
     "name": "stdout",
     "output_type": "stream",
     "text": [
      "<class 'pandas.core.frame.DataFrame'>\n",
      "RangeIndex: 100000 entries, 0 to 99999\n",
      "Data columns (total 5 columns):\n",
      " #   Column   Non-Null Count   Dtype  \n",
      "---  ------   --------------   -----  \n",
      " 0   id       100000 non-null  object \n",
      " 1   f0       100000 non-null  float64\n",
      " 2   f1       100000 non-null  float64\n",
      " 3   f2       100000 non-null  float64\n",
      " 4   product  100000 non-null  float64\n",
      "dtypes: float64(4), object(1)\n",
      "memory usage: 3.8+ MB\n"
     ]
    },
    {
     "data": {
      "text/html": [
       "<div>\n",
       "<style scoped>\n",
       "    .dataframe tbody tr th:only-of-type {\n",
       "        vertical-align: middle;\n",
       "    }\n",
       "\n",
       "    .dataframe tbody tr th {\n",
       "        vertical-align: top;\n",
       "    }\n",
       "\n",
       "    .dataframe thead th {\n",
       "        text-align: right;\n",
       "    }\n",
       "</style>\n",
       "<table border=\"1\" class=\"dataframe\">\n",
       "  <thead>\n",
       "    <tr style=\"text-align: right;\">\n",
       "      <th></th>\n",
       "      <th>f0</th>\n",
       "      <th>f1</th>\n",
       "      <th>f2</th>\n",
       "      <th>product</th>\n",
       "    </tr>\n",
       "  </thead>\n",
       "  <tbody>\n",
       "    <tr>\n",
       "      <th>count</th>\n",
       "      <td>100000.000000</td>\n",
       "      <td>100000.000000</td>\n",
       "      <td>100000.000000</td>\n",
       "      <td>100000.000000</td>\n",
       "    </tr>\n",
       "    <tr>\n",
       "      <th>mean</th>\n",
       "      <td>0.002023</td>\n",
       "      <td>-0.002081</td>\n",
       "      <td>2.495128</td>\n",
       "      <td>95.000000</td>\n",
       "    </tr>\n",
       "    <tr>\n",
       "      <th>std</th>\n",
       "      <td>1.732045</td>\n",
       "      <td>1.730417</td>\n",
       "      <td>3.473445</td>\n",
       "      <td>44.749921</td>\n",
       "    </tr>\n",
       "    <tr>\n",
       "      <th>min</th>\n",
       "      <td>-8.760004</td>\n",
       "      <td>-7.084020</td>\n",
       "      <td>-11.970335</td>\n",
       "      <td>0.000000</td>\n",
       "    </tr>\n",
       "    <tr>\n",
       "      <th>25%</th>\n",
       "      <td>-1.162288</td>\n",
       "      <td>-1.174820</td>\n",
       "      <td>0.130359</td>\n",
       "      <td>59.450441</td>\n",
       "    </tr>\n",
       "    <tr>\n",
       "      <th>50%</th>\n",
       "      <td>0.009424</td>\n",
       "      <td>-0.009482</td>\n",
       "      <td>2.484236</td>\n",
       "      <td>94.925613</td>\n",
       "    </tr>\n",
       "    <tr>\n",
       "      <th>75%</th>\n",
       "      <td>1.158535</td>\n",
       "      <td>1.163678</td>\n",
       "      <td>4.858794</td>\n",
       "      <td>130.595027</td>\n",
       "    </tr>\n",
       "    <tr>\n",
       "      <th>max</th>\n",
       "      <td>7.238262</td>\n",
       "      <td>7.844801</td>\n",
       "      <td>16.739402</td>\n",
       "      <td>190.029838</td>\n",
       "    </tr>\n",
       "  </tbody>\n",
       "</table>\n",
       "</div>"
      ],
      "text/plain": [
       "                  f0             f1             f2        product\n",
       "count  100000.000000  100000.000000  100000.000000  100000.000000\n",
       "mean        0.002023      -0.002081       2.495128      95.000000\n",
       "std         1.732045       1.730417       3.473445      44.749921\n",
       "min        -8.760004      -7.084020     -11.970335       0.000000\n",
       "25%        -1.162288      -1.174820       0.130359      59.450441\n",
       "50%         0.009424      -0.009482       2.484236      94.925613\n",
       "75%         1.158535       1.163678       4.858794     130.595027\n",
       "max         7.238262       7.844801      16.739402     190.029838"
      ]
     },
     "metadata": {},
     "output_type": "display_data"
    },
    {
     "data": {
      "text/plain": [
       "0"
      ]
     },
     "metadata": {},
     "output_type": "display_data"
    }
   ],
   "source": [
    "display(zona_2)\n",
    "zona_2.info()\n",
    "display(zona_2.describe())\n",
    "display(zona_2.duplicated().sum())"
   ]
  },
  {
   "cell_type": "markdown",
   "metadata": {},
   "source": [
    "<div class=\"alert alert-block alert-success\">\n",
    "<b>Comentario del revisor.</b> <a class=\"tocSkip\"></a>\n",
    "\n",
    "Excelente carga de los datos manteniendolos por separados de las importaciones de librerías como así la implementación de métodos para profundizar en la comprensión de nuestros datos. Bien hecho!"
   ]
  },
  {
   "cell_type": "markdown",
   "metadata": {},
   "source": [
    "En los dataframes de las 3 regiones (zona_1, zona_2 y zona_3) vemos que no hay datos nulos ni duplicados. A parte de la columna con los ID's de las pozos, los demás datos poseen datos de tipo float64. Con las columnas f0, f1 y f2 vemos que los datos mínimos son negativos en todos los Dataframes. Algunos promedios también son negativos. Todos los máximos son números positivos."
   ]
  },
  {
   "cell_type": "markdown",
   "metadata": {},
   "source": [
    "1.3 Preprocesamiento de los datos."
   ]
  },
  {
   "cell_type": "markdown",
   "metadata": {},
   "source": [
    "Separaremos en datasets a parte los datos que no parecen ser necesarios para nuestro modelo, los datos de las columnas id. En los datasets originales eliminaremos dichas columnas."
   ]
  },
  {
   "cell_type": "code",
   "execution_count": 6,
   "metadata": {},
   "outputs": [],
   "source": [
    "id_0 = zona_0[['id']]\n",
    "id_1 = zona_1[['id']]\n",
    "id_2 = zona_2[['id']]"
   ]
  },
  {
   "cell_type": "markdown",
   "metadata": {},
   "source": [
    "<div class=\"alert alert-block alert-success\">\n",
    "<b>Comentario del revisor.</b> <a class=\"tocSkip\"></a>\n",
    "\n",
    "Excelente decisión al eliminar aquella feature que no aporta valor a nuestro modelo!"
   ]
  },
  {
   "cell_type": "markdown",
   "metadata": {},
   "source": [
    "Estandarización de los datos."
   ]
  },
  {
   "cell_type": "code",
   "execution_count": 7,
   "metadata": {},
   "outputs": [],
   "source": [
    "scaler = StandardScaler()\n",
    "\n",
    "# Estandarizamos los dataframes.\n",
    "zona_1_stan = scaler.fit_transform(zona_1.drop(columns=['id']))\n",
    "zona_2_stan = scaler.fit_transform(zona_2.drop(columns=['id']))\n",
    "zona_0_stan = scaler.fit_transform(zona_0.drop(columns=['id']))\n",
    "\n",
    "# Guardar los parámetros del scaler para revertir la estandarización más adelante\n",
    "scaler_mean = scaler.mean_\n",
    "scaler_scale = scaler.scale_\n",
    "\n",
    "# Convertir a DataFrame y agregar la columna 'product'\n",
    "z_0 = pd.DataFrame(\n",
    "    zona_0_stan, columns=zona_0.columns[1:], index=zona_0.index)\n",
    "z_1 = pd.DataFrame(\n",
    "    zona_1_stan, columns=zona_1.columns[1:], index=zona_1.index)\n",
    "z_2 = pd.DataFrame(\n",
    "    zona_2_stan, columns=zona_2.columns[1:], index=zona_2.index)"
   ]
  },
  {
   "cell_type": "markdown",
   "metadata": {},
   "source": [
    "<div class=\"alert alert-block alert-success\">\n",
    "<b>Comentario del revisor.</b> <a class=\"tocSkip\"></a>\n",
    "\n",
    "Y tal como siempre se recomiendo hemos escalada nuestros datos mediante el uso de StandarScaler, bien hecho!"
   ]
  },
  {
   "cell_type": "markdown",
   "metadata": {},
   "source": [
    "Paso 2. Entrenar y poner a prueba el modelo de regresión lineal para cada región."
   ]
  },
  {
   "cell_type": "markdown",
   "metadata": {},
   "source": [
    "Hacemos una función con la cual dividimos los datos en conjunto de entrenamiento y validación (en una relación 75:25), entrenamos el modelo de regresión lineal para cada región."
   ]
  },
  {
   "cell_type": "code",
   "execution_count": 8,
   "metadata": {},
   "outputs": [],
   "source": [
    "def train_and_evaluate(data, scaler_mean, scaler_scale):\n",
    "    # Dividir los datos\n",
    "    features = data[['f0', 'f1', 'f2']]\n",
    "    target = data['product']\n",
    "    features_train, features_valid, target_train, target_valid = train_test_split(\n",
    "        features, target, test_size=0.25, random_state=12345)\n",
    "\n",
    "    # Entrenar el modelo\n",
    "    model = LinearRegression()\n",
    "    model.fit(features_train, target_train)\n",
    "\n",
    "    # Hacer predicciones\n",
    "    target_pred = model.predict(features_valid)\n",
    "\n",
    "    # Calcular el RMSE\n",
    "    rmse = np.sqrt(mean_squared_error(target_valid, target_pred))\n",
    "\n",
    "    # Revertir la estandarización de las predicciones y los valores reales\n",
    "    target_pred_orig = target_pred * scaler_scale[-1] + scaler_mean[-1]\n",
    "    target_valid_orig = target_valid * scaler_scale[-1] + scaler_mean[-1]\n",
    "    # Mantenemos los índices originales y pasamos las predicciones a una Serie de Pandas\n",
    "    target_pred_orig = pd.Series(target_pred_orig, index=features_valid.index)\n",
    "    target_valid_orig = pd.Series(\n",
    "        target_valid_orig, index=features_valid.index)\n",
    "\n",
    "    return target_pred, target_valid, rmse, target_pred_orig, target_valid_orig"
   ]
  },
  {
   "cell_type": "markdown",
   "metadata": {},
   "source": [
    "<div class=\"alert alert-block alert-success\">\n",
    "<b>Comentario del revisor.</b> <a class=\"tocSkip\"></a>\n",
    "\n",
    "Perfecta creación de las funciones, esto nos permitirá ser más ordenados con nuestro código, perfecta división de los datos y una  excelente declaración del modelo junto al entrenamiento y predicción! A la vez excelente elección de métrica!"
   ]
  },
  {
   "cell_type": "markdown",
   "metadata": {},
   "source": [
    "Evaluamos el modelo\n",
    "\n",
    "Analizamos la raíz del error cuadrático medio y el promedio de reservas predicho."
   ]
  },
  {
   "cell_type": "code",
   "execution_count": 9,
   "metadata": {},
   "outputs": [
    {
     "data": {
      "text/plain": [
       "'RMSE en la Región 0: 0.8485147934825391'"
      ]
     },
     "metadata": {},
     "output_type": "display_data"
    },
    {
     "data": {
      "text/plain": [
       "'RMSE en la Región 1: 0.01943878486290051'"
      ]
     },
     "metadata": {},
     "output_type": "display_data"
    },
    {
     "data": {
      "text/plain": [
       "'RMSE en la Región 2: 0.894524681335185'"
      ]
     },
     "metadata": {},
     "output_type": "display_data"
    },
    {
     "data": {
      "text/plain": [
       "'Reservas promedio predichas originales en la Región 0: 92.59256778438035'"
      ]
     },
     "metadata": {},
     "output_type": "display_data"
    },
    {
     "data": {
      "text/plain": [
       "'Reservas promedio predichas originales en la Región 1: 92.40702284439296'"
      ]
     },
     "metadata": {},
     "output_type": "display_data"
    },
    {
     "data": {
      "text/plain": [
       "'Reservas promedio predichas originales en la Región 2: 92.46540623335103'"
      ]
     },
     "metadata": {},
     "output_type": "display_data"
    },
    {
     "data": {
      "text/plain": [
       "'Reservas promedio reales originales en la Región 0: 92.07859674082927'"
      ]
     },
     "metadata": {},
     "output_type": "display_data"
    },
    {
     "data": {
      "text/plain": [
       "'Reservas promedio reales originales en la Región 1: 92.4018069687064'"
      ]
     },
     "metadata": {},
     "output_type": "display_data"
    },
    {
     "data": {
      "text/plain": [
       "'Reservas promedio reales originales en la Región 2: 92.38542600187984'"
      ]
     },
     "metadata": {},
     "output_type": "display_data"
    }
   ],
   "source": [
    "# Evaluar cada región\n",
    "target_pred_0, target_valid_0, rmse_0, target_pred_orig_0, target_valid_orig_0 = train_and_evaluate(\n",
    "    z_0, scaler_mean, scaler_scale)\n",
    "target_pred_1, target_valid_1, rmse_1, target_pred_orig_1, target_valid_orig_1 = train_and_evaluate(\n",
    "    z_1, scaler_mean, scaler_scale)\n",
    "target_pred_2, target_valid_2, rmse_2, target_pred_orig_2, target_valid_orig_2 = train_and_evaluate(\n",
    "    z_2, scaler_mean, scaler_scale)\n",
    "\n",
    "display(f\"RMSE en la Región 0: {rmse_0}\")\n",
    "display(f\"RMSE en la Región 1: {rmse_1}\")\n",
    "display(f\"RMSE en la Región 2: {rmse_2}\")\n",
    "\n",
    "display(\n",
    "    f\"Reservas promedio predichas originales en la Región 0: {target_pred_orig_0.mean()}\")\n",
    "display(\n",
    "    f\"Reservas promedio predichas originales en la Región 1: {target_pred_orig_1.mean()}\")\n",
    "display(\n",
    "    f\"Reservas promedio predichas originales en la Región 2: {target_pred_orig_2.mean()}\")\n",
    "\n",
    "display(\n",
    "    f\"Reservas promedio reales originales en la Región 0: {target_valid_orig_0.mean()}\")\n",
    "display(\n",
    "    f\"Reservas promedio reales originales en la Región 1: {target_valid_orig_1.mean()}\")\n",
    "display(\n",
    "    f\"Reservas promedio reales originales en la Región 2: {target_valid_orig_2.mean()}\")"
   ]
  },
  {
   "cell_type": "markdown",
   "metadata": {},
   "source": [
    "<div class=\"alert alert-block alert-success\">\n",
    "<b>Comentario del revisor.</b> <a class=\"tocSkip\"></a>\n",
    "\n",
    "Predicciones excelentes, llegamos a los resultados esperados!"
   ]
  },
  {
   "cell_type": "markdown",
   "metadata": {},
   "source": [
    "El modelo se ajusta mejor a los datos de la region 1, por lo que es más preciso en las predicciones. El RMSE está en las mismas unidades que la variable objetivo, en este este caso miles de barriles\", aunque estas unidades fueron estandarizadas.\n",
    "\n",
    "Hay que considerar que nuestros datos tienen un rango de 8 unidades (-4 a 4, aproximadamente). En promedio, las predicciones del modelo se desvían en aproximadamente 0.02 unidades de los valores reales en la region 1, 0.85 en la region 0 y 0.9 en la región 2. Esto podemos compararlo con los datos originales reales.\n",
    "\n",
    "Estos resultados sugieren que el modelo está realizando predicciones con un error promedio pequeño en comparación con la magnitud total de los datos. El modelo se ajusta bien a los datos en el contexto de su rango.\n",
    "\n",
    "De acuerdo a las reservas predichas usando las unidades originales de miles de barriles, encontramos que cada una de las tres regiones en promedio tienen alrededor de 92 mil barriles de producción."
   ]
  },
  {
   "cell_type": "markdown",
   "metadata": {},
   "source": [
    "Paso 3. Preparación para el cálculo de ganancias"
   ]
  },
  {
   "cell_type": "markdown",
   "metadata": {},
   "source": [
    "Contamos con un presupuesto de 100 millones de dólares, el cual será usado para desarrollar la explotación de 200 pozos petroleros en total. Un barril de materias primas genera 4.5 USD de ingresos. El ingreso de una unidad de producto es de 4500 dólares (el volumen de reservas está expresado en miles de barriles). De media un pozo debe producir al menos un valor de 500,000 dólares en unidades para evitar pérdidas (esto es equivalente a 111.1 unidades). "
   ]
  },
  {
   "cell_type": "code",
   "execution_count": 10,
   "metadata": {},
   "outputs": [
    {
     "data": {
      "text/plain": [
       "'Umbral de reservas: 111.11111111111111'"
      ]
     },
     "metadata": {},
     "output_type": "display_data"
    }
   ],
   "source": [
    "BUDGET = 100e6  # Presupuesto\n",
    "WELL_COST = BUDGET / 200  # Costo estipulado para cada pozo\n",
    "REVENUE_PER_UNIT = 4500\n",
    "\n",
    "threshold = WELL_COST / REVENUE_PER_UNIT\n",
    "display(f\"Umbral de reservas: {threshold}\")"
   ]
  },
  {
   "cell_type": "markdown",
   "metadata": {},
   "source": [
    "Para calcular las ganancias deberemos multuplicar los ingresos por la unidad de producto (REVENUE_PER_UNIT) por las reservas totales luego de sumar las reservas de los 200 pozos de acuerdo a las predicciones más altas."
   ]
  },
  {
   "cell_type": "markdown",
   "metadata": {},
   "source": [
    "Paso 4. Escribir una función para calcular la ganancia de un conjunto de pozos de petróleo seleccionados. Modelar las predicciones."
   ]
  },
  {
   "cell_type": "code",
   "execution_count": 11,
   "metadata": {},
   "outputs": [],
   "source": [
    "def calculate_profit(predictions, target):\n",
    "    # Seleccionar los 200 pozos con las predicciones más altas\n",
    "    selected = predictions.nlargest(200)\n",
    "\n",
    "    # Asegurarse de que los índices se alinean correctamente\n",
    "    selected_index = selected.index.intersection(target.index)\n",
    "\n",
    "    # Calcular el volumen total de reservas\n",
    "    total_reserves = target.loc[selected_index].sum()\n",
    "\n",
    "    # Calcular las ganancias\n",
    "    revenue = total_reserves * REVENUE_PER_UNIT\n",
    "    profit = revenue - BUDGET\n",
    "\n",
    "    return profit, selected"
   ]
  },
  {
   "cell_type": "markdown",
   "metadata": {},
   "source": [
    "<div class=\"alert alert-block alert-success\">\n",
    "<b>Comentario del revisor.</b> <a class=\"tocSkip\"></a>\n",
    "\n",
    "Perfecto! Tal como se debía hemos tomado los top 200 pozos en base a las predicciones eligiendo los valores reales y de forma correcta hemos calculado la ganancia al multiplicar por la ganancia por unidad y al restar el presupuesto. Sigamos!"
   ]
  },
  {
   "cell_type": "code",
   "execution_count": 12,
   "metadata": {},
   "outputs": [
    {
     "data": {
      "text/plain": [
       "'Ganancia en la Región 0: 33208260.43139851 dólares'"
      ]
     },
     "metadata": {},
     "output_type": "display_data"
    },
    {
     "data": {
      "text/plain": [
       "'Ganancia en la Región 1: 43216519.919496775 dólares'"
      ]
     },
     "metadata": {},
     "output_type": "display_data"
    },
    {
     "data": {
      "text/plain": [
       "'Ganancia en la Región 2: 24424699.341968343 dólares'"
      ]
     },
     "metadata": {},
     "output_type": "display_data"
    },
    {
     "data": {
      "text/plain": [
       "'La mayor ganancia es en la Región 1 con: 43216519.919496775 dólares'"
      ]
     },
     "metadata": {},
     "output_type": "display_data"
    }
   ],
   "source": [
    "# Calcular la ganancia para cada región\n",
    "profit_0, selected_predictions_0 = calculate_profit(\n",
    "    target_pred_orig_0, target_valid_orig_0)\n",
    "profit_1, selected_predictions_1 = calculate_profit(\n",
    "    target_pred_orig_1, target_valid_orig_1)\n",
    "profit_2, selected_predictions_2 = calculate_profit(\n",
    "    target_pred_orig_2, target_valid_orig_2)\n",
    "\n",
    "# Diccionario de ganancias\n",
    "profits = {\n",
    "    \"Región 0\": profit_0,\n",
    "    \"Región 1\": profit_1,\n",
    "    \"Región 2\": profit_2\n",
    "}\n",
    "\n",
    "# Encontrar la región con la ganancia máxima\n",
    "max_region = max(profits, key=profits.get)\n",
    "max_profit = profits[max_region]\n",
    "\n",
    "# Mostrar todas las ganancias y las regiones\n",
    "for region, profit in profits.items():\n",
    "    display(f\"Ganancia en la {region}: {profit} dólares\")\n",
    "\n",
    "# Mostrar la region con la mayor ganancia\n",
    "display(f\"La mayor ganancia es en la {max_region} con: {max_profit} dólares\")"
   ]
  },
  {
   "cell_type": "markdown",
   "metadata": {},
   "source": [
    "<div class=\"alert alert-block alert-success\">\n",
    "<b>Comentario del revisor.</b> <a class=\"tocSkip\"></a>\n",
    "\n",
    "Obtenciones perfectas"
   ]
  },
  {
   "cell_type": "markdown",
   "metadata": {},
   "source": [
    "Observamos que la mayor ganancia prevista está en los 200 pozos de la región 1, con una estimación de 43216520 dólares en ganancias aproximadamente. Proponemos los 200 pozos de esta región para su desarrollo."
   ]
  },
  {
   "cell_type": "markdown",
   "metadata": {},
   "source": [
    "Paso 5: Análisis de riesgos y ganancias"
   ]
  },
  {
   "cell_type": "code",
   "execution_count": 13,
   "metadata": {},
   "outputs": [],
   "source": [
    "def bootstrap_profit_risk(selected_predictions, target, n_samples=1000):\n",
    "    state = np.random.RandomState(12345)\n",
    "    profits = []\n",
    "\n",
    "    for _ in range(n_samples):\n",
    "        # Tomar una muestra aleatoria con reemplazo\n",
    "        target_subsample = target.sample(\n",
    "            n=500, replace=True, random_state=state)\n",
    "        predictions_subsample = selected_predictions.reindex(\n",
    "            target_subsample.index)\n",
    "\n",
    "        # Calcular la ganancia usando las predicciones seleccionadas\n",
    "        profit, _ = calculate_profit(predictions_subsample, target_subsample)\n",
    "        profits.append(profit)\n",
    "\n",
    "    # Convertir la lista de ganancias en un Series de pandas\n",
    "    profits_series = pd.Series(profits)\n",
    "\n",
    "    # Calcular el intervalo de confianza del 95%\n",
    "    lower = profits_series.quantile(0.025)\n",
    "    upper = profits_series.quantile(0.975)\n",
    "\n",
    "    # Calcular el beneficio promedio\n",
    "    mean_profits_series = profits_series.mean()\n",
    "\n",
    "    # Calcular el riesgo de pérdida como porcentaje\n",
    "    risk_loss_percentage = (profits_series < 0).mean() * 100\n",
    "\n",
    "    return mean_profits_series, lower, upper, risk_loss_percentage"
   ]
  },
  {
   "cell_type": "code",
   "execution_count": 16,
   "metadata": {},
   "outputs": [
    {
     "data": {
      "text/plain": [
       "'Región 0 - Beneficio promedio: 3965603.33 Intervalo de confianza del 95%: (-1112155.46, 9097669.42) Probabilidad de pérdida: 6.90%'"
      ]
     },
     "metadata": {},
     "output_type": "display_data"
    },
    {
     "data": {
      "text/plain": [
       "'Región 1 - Beneficio promedio: 24334963.62 Intervalo de confianza del 95%: (20262011.83, 28151743.82) Probabilidad de pérdida: 0.00%'"
      ]
     },
     "metadata": {},
     "output_type": "display_data"
    },
    {
     "data": {
      "text/plain": [
       "'Región 2 - Beneficio promedio: 1606133.62 Intervalo de confianza del 95%: (-4016116.95, 7006194.71) Probabilidad de pérdida: 26.80%'"
      ]
     },
     "metadata": {},
     "output_type": "display_data"
    }
   ],
   "source": [
    "# Calcular la ganancia y el riesgo para la región 1 usando bootstrapping\n",
    "mean_profit_0, lower_bound_0, upper_bound_0, loss_percentage_0 = bootstrap_profit_risk(\n",
    "    target_pred_orig_0, target_valid_orig_0)\n",
    "\n",
    "mean_profit_1, lower_bound_1, upper_bound_1, loss_percentage_1 = bootstrap_profit_risk(\n",
    "    target_pred_orig_1, target_valid_orig_1)\n",
    "\n",
    "mean_profit_2, lower_bound_2, upper_bound_2, loss_percentage_2 = bootstrap_profit_risk(\n",
    "    target_pred_orig_2, target_valid_orig_2)\n",
    "\n",
    "display(\n",
    "    f\"Región 0 - Beneficio promedio: {mean_profit_0:.2f} Intervalo de confianza del 95%: ({lower_bound_0:.2f}, {upper_bound_0:.2f}) Probabilidad de pérdida: {loss_percentage_0:.2f}%\")\n",
    "display(\n",
    "    f\"Región 1 - Beneficio promedio: {mean_profit_1:.2f} Intervalo de confianza del 95%: ({lower_bound_1:.2f}, {upper_bound_1:.2f}) Probabilidad de pérdida: {loss_percentage_1:.2f}%\")\n",
    "display(\n",
    "    f\"Región 2 - Beneficio promedio: {mean_profit_2:.2f} Intervalo de confianza del 95%: ({lower_bound_2:.2f}, {upper_bound_2:.2f}) Probabilidad de pérdida: {loss_percentage_2:.2f}%\")"
   ]
  },
  {
   "cell_type": "markdown",
   "metadata": {},
   "source": [
    "<div class=\"alert alert-block alert-warning\">\n",
    "<b>Comentario del revisor.</b> <a class=\"tocSkip\"></a>\n",
    "\n",
    "Aquí lo hemos hecho muy bien, la estructura es perfecta sin embargo nos estamos cconfunidiendo en un pequeño detalle, nosotors le estamos pasando unicamente los 200 pozos elegidos por ser top prediction cuando en realidad aquí lo que debemos hacer es pasar todos los valores reales de la región, el objetivo del bootstrapping es asegurar la consistencia en las ganancias por lo cual debemos tomar todos los datos de la región y sobre cada iteración tomar una submuestra pequeña.\n",
    "    \n",
    "Nosotros actualmente tomamos 200 valores y tomamos una submuestra de 200 valores por lo cual en cada iteración tendremos el mismo resultado, tratemos de corregir esto, tomemos todos los valores de la región y aumenta el sample que tomamos a 500 valores."
   ]
  },
  {
   "cell_type": "markdown",
   "metadata": {},
   "source": [
    "<div class=\"alert alert-block alert-info\">\n",
    "<b>¡Hola Facundo! Muchas gracias por tu respuesta. Tuve muchas dudas de como resolver esta parte del proyecto. En las instrucciones del proyecto se mencionaba que usaramos las predicciones almacenadas en el paso 4.2, por lo que me fui con la finta de que tenían que ser los 200 valores... se me hizo raro, pero lo que mencionas tiene más sentido. También sigo teniendo dudas al respecto, debido a que los resultados me aparecen negativos, con probabilidades de pérdidas del 100%. ¿Estoy malentendiedo otra cosa \n",
    "\n",
    "</b> <a class=\"tocSkip\"></a>\n",
    "</div>\n"
   ]
  },
  {
   "cell_type": "markdown",
   "metadata": {},
   "source": [
    "<div class=\"alert alert-block alert-success\">\n",
    "<b>Comentario del revisor.</b> <a class=\"tocSkip\"></a>\n",
    "\n",
    "Hola nuevamente! :) entiendo tu consulta, esto se debe a una leve confusión en lo indicado en la iteración anterior, los 500 valores se refieren a la muestra, nosotros estamos modificando la cantidad de iteraciones y aun seguimos tomando muestras de 200 casos, lo correcto sería iterar 1000 veces y tomar 500 valores por cada iteración, es decir:\n",
    "    \n",
    "    target.sample(\n",
    "            n=500 ...\n",
    "    \n",
    "una vez modifiquemos esto veremos los resultados correctos!\n",
    "    \n",
    "    Ahora si excelente, felicitaciones!"
   ]
  },
  {
   "cell_type": "markdown",
   "metadata": {},
   "source": [
    "Conclusión"
   ]
  },
  {
   "cell_type": "code",
   "execution_count": 15,
   "metadata": {},
   "outputs": [
    {
     "data": {
      "text/plain": [
       "'Región seleccionada para el desarrollo de pozos petrolíferos: Región 1'"
      ]
     },
     "metadata": {},
     "output_type": "display_data"
    }
   ],
   "source": [
    "if loss_percentage_0 < 0.025 and mean_profit_0 > mean_profit_1 and mean_profit_0 > mean_profit_2:\n",
    "    selected_region = \"Región 0\"\n",
    "elif loss_percentage_1 < 0.025 and mean_profit_1 > mean_profit_0 and mean_profit_1 > mean_profit_2:\n",
    "    selected_region = \"Región 1\"\n",
    "elif loss_percentage_2 < 0.025 and mean_profit_2 > mean_profit_0 and mean_profit_2 > mean_profit_1:\n",
    "    selected_region = \"Región 2\"\n",
    "else:\n",
    "    selected_region = \"Ninguna región cumple con los criterios de riesgo.\"\n",
    "\n",
    "display(\n",
    "    f\"Región seleccionada para el desarrollo de pozos petrolíferos: {selected_region}\")"
   ]
  },
  {
   "cell_type": "markdown",
   "metadata": {},
   "source": [
    "Concluimos que el desarrollo de los pozos petrolíferos debe ser en la región 1, donde encontramos el menor riesgo de pérdidas y con un beneficio estimado de 24334963.62 dólares. Dichos resultados sobre la región donde explotar los pozos concuerdan con los obtenidos sobre el sitio con las mayores ganancias.\n"
   ]
  }
 ],
 "metadata": {
  "ExecuteTimeLog": [
   {
    "duration": 24,
    "start_time": "2024-07-27T13:12:02.477Z"
   },
   {
    "duration": 1595,
    "start_time": "2024-07-27T13:19:27.195Z"
   },
   {
    "duration": 27,
    "start_time": "2024-07-27T13:19:37.886Z"
   },
   {
    "duration": 4,
    "start_time": "2024-07-27T13:20:36.560Z"
   },
   {
    "duration": 32,
    "start_time": "2024-07-27T13:20:38.881Z"
   },
   {
    "duration": 26,
    "start_time": "2024-07-27T13:20:39.462Z"
   },
   {
    "duration": 27,
    "start_time": "2024-07-27T13:20:39.636Z"
   },
   {
    "duration": 6,
    "start_time": "2024-07-27T13:21:12.374Z"
   },
   {
    "duration": 954,
    "start_time": "2024-07-27T13:21:16.817Z"
   },
   {
    "duration": 424,
    "start_time": "2024-07-27T13:21:23.593Z"
   },
   {
    "duration": 128,
    "start_time": "2024-07-27T13:21:25.858Z"
   },
   {
    "duration": 124,
    "start_time": "2024-07-27T13:21:27.316Z"
   },
   {
    "duration": 122,
    "start_time": "2024-07-27T13:21:27.694Z"
   },
   {
    "duration": 11,
    "start_time": "2024-07-27T13:21:29.225Z"
   },
   {
    "duration": 39,
    "start_time": "2024-07-27T13:21:30.277Z"
   },
   {
    "duration": 7,
    "start_time": "2024-07-27T13:21:32.955Z"
   },
   {
    "duration": 223,
    "start_time": "2024-07-27T13:21:35.720Z"
   },
   {
    "duration": 7,
    "start_time": "2024-07-27T13:21:46.409Z"
   },
   {
    "duration": 320,
    "start_time": "2024-07-27T13:21:47.530Z"
   },
   {
    "duration": 5,
    "start_time": "2024-07-27T13:21:50.918Z"
   },
   {
    "duration": 4,
    "start_time": "2024-07-27T13:21:58.395Z"
   },
   {
    "duration": 23,
    "start_time": "2024-07-27T13:21:59.075Z"
   },
   {
    "duration": 7,
    "start_time": "2024-07-27T13:22:11.061Z"
   },
   {
    "duration": 4383,
    "start_time": "2024-07-27T13:22:11.751Z"
   },
   {
    "duration": 10,
    "start_time": "2024-07-27T13:22:26.246Z"
   },
   {
    "duration": 10,
    "start_time": "2024-07-27T13:22:31.933Z"
   },
   {
    "duration": 4671,
    "start_time": "2024-07-27T13:22:32.765Z"
   },
   {
    "duration": 5314,
    "start_time": "2024-07-27T13:23:45.972Z"
   },
   {
    "duration": 4666,
    "start_time": "2024-07-27T13:24:23.041Z"
   },
   {
    "duration": 1557,
    "start_time": "2024-07-27T15:17:32.152Z"
   },
   {
    "duration": 25,
    "start_time": "2024-07-27T15:19:21.315Z"
   },
   {
    "duration": 780,
    "start_time": "2024-07-27T15:19:22.976Z"
   },
   {
    "duration": 127,
    "start_time": "2024-07-27T15:20:33.836Z"
   },
   {
    "duration": 489,
    "start_time": "2024-07-27T15:21:10.496Z"
   },
   {
    "duration": 129,
    "start_time": "2024-07-27T15:21:12.389Z"
   },
   {
    "duration": 25,
    "start_time": "2024-07-27T15:21:20.529Z"
   },
   {
    "duration": 4,
    "start_time": "2024-07-27T15:23:02.289Z"
   },
   {
    "duration": 1162,
    "start_time": "2024-07-27T15:26:02.836Z"
   },
   {
    "duration": 378,
    "start_time": "2024-07-27T15:26:04.003Z"
   },
   {
    "duration": 142,
    "start_time": "2024-07-27T15:26:04.384Z"
   },
   {
    "duration": 149,
    "start_time": "2024-07-27T15:26:04.530Z"
   },
   {
    "duration": 148,
    "start_time": "2024-07-27T15:26:04.682Z"
   },
   {
    "duration": 15,
    "start_time": "2024-07-27T15:26:04.833Z"
   },
   {
    "duration": 56,
    "start_time": "2024-07-27T15:26:04.852Z"
   },
   {
    "duration": 8,
    "start_time": "2024-07-27T15:26:04.910Z"
   },
   {
    "duration": 352,
    "start_time": "2024-07-27T15:26:04.922Z"
   },
   {
    "duration": 5,
    "start_time": "2024-07-27T15:26:05.279Z"
   },
   {
    "duration": 5,
    "start_time": "2024-07-27T15:26:05.288Z"
   },
   {
    "duration": 24,
    "start_time": "2024-07-27T15:26:05.369Z"
   },
   {
    "duration": 7,
    "start_time": "2024-07-27T15:26:05.396Z"
   },
   {
    "duration": 5426,
    "start_time": "2024-07-27T15:26:05.406Z"
   },
   {
    "duration": 7,
    "start_time": "2024-07-27T15:26:10.835Z"
   },
   {
    "duration": 2646,
    "start_time": "2024-07-27T15:27:31.622Z"
   },
   {
    "duration": 1208,
    "start_time": "2024-07-29T01:55:40.621Z"
   },
   {
    "duration": 492,
    "start_time": "2024-07-29T01:55:41.832Z"
   },
   {
    "duration": 143,
    "start_time": "2024-07-29T01:55:43.721Z"
   },
   {
    "duration": 124,
    "start_time": "2024-07-29T01:55:45.331Z"
   },
   {
    "duration": 126,
    "start_time": "2024-07-29T01:55:46.822Z"
   },
   {
    "duration": 11,
    "start_time": "2024-07-29T01:55:48.645Z"
   },
   {
    "duration": 40,
    "start_time": "2024-07-29T01:55:50.684Z"
   },
   {
    "duration": 7,
    "start_time": "2024-07-29T01:55:52.766Z"
   },
   {
    "duration": 248,
    "start_time": "2024-07-29T01:55:54.081Z"
   },
   {
    "duration": 7,
    "start_time": "2024-07-29T01:56:02.231Z"
   },
   {
    "duration": 4,
    "start_time": "2024-07-29T01:56:02.977Z"
   },
   {
    "duration": 23,
    "start_time": "2024-07-29T01:56:03.668Z"
   },
   {
    "duration": 8,
    "start_time": "2024-07-29T01:56:08.142Z"
   },
   {
    "duration": 2727,
    "start_time": "2024-07-29T01:56:09.322Z"
   },
   {
    "duration": 7,
    "start_time": "2024-07-29T01:57:25.124Z"
   },
   {
    "duration": 6518,
    "start_time": "2024-07-29T01:57:27.405Z"
   },
   {
    "duration": 7,
    "start_time": "2024-07-29T01:57:42.800Z"
   },
   {
    "duration": 2609,
    "start_time": "2024-07-29T01:57:43.718Z"
   },
   {
    "duration": 1120,
    "start_time": "2024-07-29T02:17:38.677Z"
   },
   {
    "duration": 478,
    "start_time": "2024-07-29T02:17:39.800Z"
   },
   {
    "duration": 152,
    "start_time": "2024-07-29T02:17:40.281Z"
   },
   {
    "duration": 142,
    "start_time": "2024-07-29T02:17:40.435Z"
   },
   {
    "duration": 142,
    "start_time": "2024-07-29T02:17:40.581Z"
   },
   {
    "duration": 16,
    "start_time": "2024-07-29T02:17:40.725Z"
   },
   {
    "duration": 41,
    "start_time": "2024-07-29T02:17:40.744Z"
   },
   {
    "duration": 10,
    "start_time": "2024-07-29T02:17:40.788Z"
   },
   {
    "duration": 339,
    "start_time": "2024-07-29T02:17:40.801Z"
   },
   {
    "duration": 86,
    "start_time": "2024-07-29T02:17:41.147Z"
   },
   {
    "duration": 5,
    "start_time": "2024-07-29T02:17:41.235Z"
   },
   {
    "duration": 23,
    "start_time": "2024-07-29T02:17:41.243Z"
   },
   {
    "duration": 7,
    "start_time": "2024-07-29T02:17:41.269Z"
   },
   {
    "duration": 6218,
    "start_time": "2024-07-29T02:17:41.282Z"
   },
   {
    "duration": 7,
    "start_time": "2024-07-29T02:17:47.503Z"
   },
   {
    "duration": 6065,
    "start_time": "2024-07-29T02:21:49.746Z"
   }
  ],
  "kernelspec": {
   "display_name": "Python 3 (ipykernel)",
   "language": "python",
   "name": "python3"
  },
  "language_info": {
   "codemirror_mode": {
    "name": "ipython",
    "version": 3
   },
   "file_extension": ".py",
   "mimetype": "text/x-python",
   "name": "python",
   "nbconvert_exporter": "python",
   "pygments_lexer": "ipython3",
   "version": "3.9.19"
  },
  "toc": {
   "base_numbering": 1,
   "nav_menu": {},
   "number_sections": true,
   "sideBar": true,
   "skip_h1_title": true,
   "title_cell": "Table of Contents",
   "title_sidebar": "Contents",
   "toc_cell": false,
   "toc_position": {},
   "toc_section_display": true,
   "toc_window_display": false
  }
 },
 "nbformat": 4,
 "nbformat_minor": 2
}
