{
 "cells": [
  {
   "cell_type": "code",
   "execution_count": 6,
   "metadata": {},
   "outputs": [],
   "source": [
    "# Recargar las bibliotecas necesarias debido al reinicio del estado\n",
    "import nbformat\n",
    "import os\n",
    "from pathlib import Path"
   ]
  },
  {
   "cell_type": "code",
   "execution_count": 7,
   "metadata": {},
   "outputs": [
    {
     "name": "stdout",
     "output_type": "stream",
     "text": [
      "El archivo ha sido leído correctamente.\n"
     ]
    }
   ],
   "source": [
    "# Obtener el directorio actual del notebook\n",
    "directorio_actual = Path().resolve()\n",
    "\n",
    "# Construir la ruta relativa al archivo notebook\n",
    "ruta_notebook = os.path.join(directorio_actual, 'proyecto_10.ipynb')\n",
    "\n",
    "# Verificar si el archivo existe\n",
    "if not os.path.exists(ruta_notebook):\n",
    "    print(f\"El archivo {ruta_notebook} no se encuentra.\")\n",
    "else:\n",
    "    # Leer el contenido del archivo notebook\n",
    "    with open(ruta_notebook, \"r\", encoding=\"utf-8\") as file_new:\n",
    "        notebook_content_new = nbformat.read(file_new, as_version=4)\n",
    "    print(\"El archivo ha sido leído correctamente.\")"
   ]
  },
  {
   "cell_type": "code",
   "execution_count": 8,
   "metadata": {},
   "outputs": [],
   "source": [
    "# Extraer información básica sobre las celdas del notebook\n",
    "code_cells_new = [cell for cell in notebook_content_new.cells if cell.cell_type == \"code\"]\n",
    "markdown_cells_new = [cell for cell in notebook_content_new.cells if cell.cell_type == \"markdown\"]\n",
    "\n",
    "# Resumir el contenido del nuevo notebook\n",
    "notebook_summary_new = {\n",
    "    \"total_cells\": len(notebook_content_new.cells),\n",
    "    \"code_cells\": len(code_cells_new),\n",
    "    \"markdown_cells\": len(markdown_cells_new),\n",
    "    \"first_markdown\": markdown_cells_new[0].source if markdown_cells_new else \"No markdown content\",\n",
    "    \"first_code\": code_cells_new[0].source if code_cells_new else \"No code content\",\n",
    "}"
   ]
  },
  {
   "cell_type": "code",
   "execution_count": 9,
   "metadata": {},
   "outputs": [
    {
     "data": {
      "text/plain": [
       "{'total_cells': 34,\n",
       " 'code_cells': 15,\n",
       " 'markdown_cells': 19,\n",
       " 'first_markdown': 'Estamos buscando para la empresa OilyGiant los mejores lugares donde abrir 200 pozos nuevos de petróleo.',\n",
       " 'first_code': '# Librerías\\nimport pandas as pd\\nimport numpy as np\\nfrom sklearn.preprocessing import StandardScaler\\nfrom sklearn.model_selection import train_test_split\\nfrom sklearn.metrics import mean_squared_error\\nfrom sklearn.linear_model import LinearRegression'}"
      ]
     },
     "execution_count": 9,
     "metadata": {},
     "output_type": "execute_result"
    }
   ],
   "source": [
    "notebook_summary_new"
   ]
  }
 ],
 "metadata": {
  "kernelspec": {
   "display_name": "Python 3",
   "language": "python",
   "name": "python3"
  },
  "language_info": {
   "codemirror_mode": {
    "name": "ipython",
    "version": 3
   },
   "file_extension": ".py",
   "mimetype": "text/x-python",
   "name": "python",
   "nbconvert_exporter": "python",
   "pygments_lexer": "ipython3",
   "version": "3.12.5"
  }
 },
 "nbformat": 4,
 "nbformat_minor": 2
}
